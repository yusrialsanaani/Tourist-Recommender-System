{
 "cells": [
  {
   "cell_type": "markdown",
   "metadata": {},
   "source": [
    "The app.py code includes 4 recommender systems based on similarity model to provide 4 different type of recommendations including:\n",
    "- Providing three similar recommendations to previously visited place by the user.\n",
    "- Providing the top two recommendations for the best time chosen by the user.\n",
    "- Providing the top two recommendations for the province chosen by the user.\n",
    "- Providing the top two recommendations for attraction type chosen by the user. Also, it includes a flask set up to provide fulfillment routes from/to chatbot to receive the user queries and return the corresponding recommendations.\n"
   ]
  },
  {
   "cell_type": "code",
   "execution_count": 2,
   "metadata": {},
   "outputs": [],
   "source": [
    "from math import sqrt\n",
    "import pandas as pd\n",
    "import numpy as np\n",
    "import seaborn as sns\n",
    "from matplotlib import pyplot as plt\n",
    "from sklearn.feature_extraction.text import TfidfVectorizer\n",
    "from sklearn.metrics.pairwise import linear_kernel"
   ]
  },
  {
   "cell_type": "code",
   "execution_count": 3,
   "metadata": {},
   "outputs": [
    {
     "data": {
      "text/html": [
       "<div>\n",
       "<style scoped>\n",
       "    .dataframe tbody tr th:only-of-type {\n",
       "        vertical-align: middle;\n",
       "    }\n",
       "\n",
       "    .dataframe tbody tr th {\n",
       "        vertical-align: top;\n",
       "    }\n",
       "\n",
       "    .dataframe thead th {\n",
       "        text-align: right;\n",
       "    }\n",
       "</style>\n",
       "<table border=\"1\" class=\"dataframe\">\n",
       "  <thead>\n",
       "    <tr style=\"text-align: right;\">\n",
       "      <th></th>\n",
       "      <th>location_id</th>\n",
       "      <th>location_name</th>\n",
       "      <th>location_type</th>\n",
       "      <th>type_id</th>\n",
       "      <th>ratings</th>\n",
       "      <th>no. of rating</th>\n",
       "      <th>provience</th>\n",
       "      <th>cost</th>\n",
       "      <th>user_id</th>\n",
       "      <th>best_time_to_visit</th>\n",
       "      <th>visiting_hours</th>\n",
       "      <th>Address</th>\n",
       "      <th>Website_link</th>\n",
       "      <th>image_link</th>\n",
       "    </tr>\n",
       "  </thead>\n",
       "  <tbody>\n",
       "    <tr>\n",
       "      <th>0</th>\n",
       "      <td>0</td>\n",
       "      <td>Ripley's Aquarium of Canada</td>\n",
       "      <td>Aquariums</td>\n",
       "      <td>4</td>\n",
       "      <td>4.5</td>\n",
       "      <td>20,326</td>\n",
       "      <td>ontario</td>\n",
       "      <td>15$</td>\n",
       "      <td>1</td>\n",
       "      <td>summer</td>\n",
       "      <td>Sun - Sat 10:00 AM - 8:00 PM</td>\n",
       "      <td>288 Bremner Boulevard, Toronto, Ontario M5V 3L...</td>\n",
       "      <td>http://www.ripleyaquariums.com/canada</td>\n",
       "      <td>https://dynamic-media-cdn.tripadvisor.com/medi...</td>\n",
       "    </tr>\n",
       "    <tr>\n",
       "      <th>1</th>\n",
       "      <td>1</td>\n",
       "      <td>Mount Royal Park</td>\n",
       "      <td>Parks</td>\n",
       "      <td>2</td>\n",
       "      <td>3.0</td>\n",
       "      <td>10,493</td>\n",
       "      <td>quebec</td>\n",
       "      <td>5$</td>\n",
       "      <td>1</td>\n",
       "      <td>fall</td>\n",
       "      <td>Sun - Sat 6:00 AM - 12:00 AM</td>\n",
       "      <td>1260 Remembrance Road, Montreal, Quebec H3H 1A...</td>\n",
       "      <td>http://www.lemontroyal.qc.ca/en</td>\n",
       "      <td>https://dynamic-media-cdn.tripadvisor.com/medi...</td>\n",
       "    </tr>\n",
       "  </tbody>\n",
       "</table>\n",
       "</div>"
      ],
      "text/plain": [
       "   location_id                location_name location_type  type_id  ratings  \\\n",
       "0            0  Ripley's Aquarium of Canada     Aquariums        4      4.5   \n",
       "1            1             Mount Royal Park         Parks        2      3.0   \n",
       "\n",
       "  no. of rating provience cost  user_id best_time_to_visit  \\\n",
       "0        20,326   ontario  15$        1             summer   \n",
       "1        10,493    quebec   5$        1               fall   \n",
       "\n",
       "                 visiting_hours  \\\n",
       "0  Sun - Sat 10:00 AM - 8:00 PM   \n",
       "1  Sun - Sat 6:00 AM - 12:00 AM   \n",
       "\n",
       "                                             Address  \\\n",
       "0  288 Bremner Boulevard, Toronto, Ontario M5V 3L...   \n",
       "1  1260 Remembrance Road, Montreal, Quebec H3H 1A...   \n",
       "\n",
       "                            Website_link  \\\n",
       "0  http://www.ripleyaquariums.com/canada   \n",
       "1        http://www.lemontroyal.qc.ca/en   \n",
       "\n",
       "                                          image_link  \n",
       "0  https://dynamic-media-cdn.tripadvisor.com/medi...  \n",
       "1  https://dynamic-media-cdn.tripadvisor.com/medi...  "
      ]
     },
     "execution_count": 3,
     "metadata": {},
     "output_type": "execute_result"
    }
   ],
   "source": [
    "df_attractions = pd.read_csv('C:/Users/yusri/OneDrive - just.edu.jo/Desktop/RS_Project/Chatbot/attraction_new.csv')\n",
    "\n",
    "df_attractions.head(2)"
   ]
  },
  {
   "cell_type": "markdown",
   "metadata": {},
   "source": [
    "# Recommender System on the basis of location type"
   ]
  },
  {
   "cell_type": "code",
   "execution_count": 4,
   "metadata": {},
   "outputs": [],
   "source": [
    "# Recommender System on the basis of location type\n",
    "tfidf_attraction_type = TfidfVectorizer()\n",
    "tfidf_attraction_type_matrix = tfidf_attraction_type.fit_transform(df_attractions['location_type'])\n",
    "cosine_sim_attractions = linear_kernel(tfidf_attraction_type_matrix, tfidf_attraction_type_matrix)"
   ]
  },
  {
   "cell_type": "code",
   "execution_count": 5,
   "metadata": {},
   "outputs": [],
   "source": [
    "def get_recommendations_based_on_type(location_name, cosine_sim_attractions=cosine_sim_attractions):\n",
    "    \"\"\"\n",
    "    Calculates top 2 attraction to recommend based on given location type. \n",
    "    \"\"\"\n",
    "    idx_attraction = df_attractions.loc[df_attractions['location_name'].isin([location_name])]\n",
    "    idx_attraction = idx_attraction.index\n",
    "    sim_scores_attractions = list(enumerate(cosine_sim_attractions[idx_attraction][0]))\n",
    "    sim_scores_attractions = sorted(sim_scores_attractions, key=lambda x: x[1], reverse=True)\n",
    "    sim_scores_attractions = sim_scores_attractions[1:3]\n",
    "    attraction_indices = [i[0] for i in sim_scores_attractions]\n",
    "    return df_attractions['location_name'].iloc[attraction_indices]"
   ]
  },
  {
   "cell_type": "code",
   "execution_count": null,
   "metadata": {},
   "outputs": [],
   "source": []
  },
  {
   "cell_type": "markdown",
   "metadata": {},
   "source": [
    "# Recommender System on the basis of provience"
   ]
  },
  {
   "cell_type": "code",
   "execution_count": 7,
   "metadata": {},
   "outputs": [],
   "source": [
    "tfidf_attraction_provience = TfidfVectorizer()\n",
    "tfidf_attraction_provience_matrix = tfidf_attraction_provience.fit_transform(df_attractions['provience'])\n",
    "cosine_sim_attractions_pro = linear_kernel(tfidf_attraction_provience_matrix, tfidf_attraction_provience_matrix)"
   ]
  },
  {
   "cell_type": "code",
   "execution_count": 8,
   "metadata": {},
   "outputs": [],
   "source": [
    "tfidf_attraction_provience = TfidfVectorizer()\n",
    "tfidf_attraction_provience_matrix = tfidf_attraction_provience.fit_transform(df_attractions['provience'])\n",
    "cosine_sim_attractions_pro = linear_kernel(tfidf_attraction_provience_matrix, tfidf_attraction_provience_matrix)\n",
    "\n",
    "def get_recommendations_based_on_provience(location_name, cosine_sim_attractions_pro=cosine_sim_attractions_pro):\n",
    "    \"\"\"\n",
    "    Calculates top 2 attraction to recommend based on given location type. \n",
    "    \"\"\"\n",
    "    idx_attraction_pro = df_attractions.loc[df_attractions['location_name'].isin([location_name])]\n",
    "    idx_attraction_pro = idx_attraction_pro.index\n",
    "    sim_scores_attractions_pro = list(enumerate(cosine_sim_attractions_pro[idx_attraction_pro][0]))\n",
    "    sim_scores_attractions_pro = sorted(sim_scores_attractions_pro, key=lambda x: x[1], reverse=True)\n",
    "    sim_scores_attractions_pro = sim_scores_attractions_pro[1:3]\n",
    "    attraction_indices_pro = [i[0] for i in sim_scores_attractions_pro]\n",
    "    return df_attractions['location_name'].iloc[attraction_indices_pro]\n"
   ]
  },
  {
   "cell_type": "code",
   "execution_count": 9,
   "metadata": {},
   "outputs": [],
   "source": [
    "#def get_province(province_name):\n",
    "  #loc = df_attractions.loc[df_attractions['provience'].isin([province_name])]\n",
    "  #provience_fetch = loc.iloc[0]['location_name']\n",
    "  #re=list(get_recommendations_based_on_provience(provience_fetch).values)\n",
    "  #return re"
   ]
  },
  {
   "cell_type": "markdown",
   "metadata": {},
   "source": [
    "# Recommender System based on best time to visit"
   ]
  },
  {
   "cell_type": "code",
   "execution_count": 11,
   "metadata": {},
   "outputs": [],
   "source": [
    "tfidf_attraction_best_time = TfidfVectorizer()\n",
    "tfidf_attraction_best_time_matrix = tfidf_attraction_best_time.fit_transform(df_attractions['best_time_to_visit'])\n",
    "cosine_sim_attractions_best_time = linear_kernel(tfidf_attraction_best_time_matrix, tfidf_attraction_best_time_matrix)"
   ]
  },
  {
   "cell_type": "code",
   "execution_count": 12,
   "metadata": {},
   "outputs": [],
   "source": [
    "def get_recommendations_based_on_best_time(location_name, cosine_sim_attractions_best_time=cosine_sim_attractions_best_time):\n",
    "    \"\"\"\n",
    "    Calculates top 2 attraction to recommend based on given best time to visit. \n",
    "    \"\"\"\n",
    "    idx_attraction_best_time = df_attractions.loc[df_attractions['location_name'].isin([location_name])]\n",
    "    idx_attraction_best_time = idx_attraction_best_time.index\n",
    "    # Get the pairwsie similarity scores of all attraction with that name\n",
    "    sim_scores_attractions_best_time = list(enumerate(cosine_sim_attractions_best_time[idx_attraction_best_time][0]))\n",
    "    # Sort the attractions based on the similarity scores\n",
    "    sim_scores_attractions_best_time = sorted(sim_scores_attractions_best_time, key=lambda x: x[1], reverse=True)\n",
    "    # Get the scores of the 2 most similar attractions\n",
    "    sim_scores_attractions_best_time = sim_scores_attractions_best_time[1:3]\n",
    "    # Get the attraction indices\n",
    "    attraction_indices_best_time = [i[0] for i in sim_scores_attractions_best_time]\n",
    "    # Return the top 2 most similar attractions\n",
    "    return df_attractions['location_name'].iloc[attraction_indices_best_time]"
   ]
  },
  {
   "cell_type": "code",
   "execution_count": null,
   "metadata": {},
   "outputs": [],
   "source": []
  },
  {
   "cell_type": "markdown",
   "metadata": {},
   "source": [
    "---------------------------------------------"
   ]
  },
  {
   "cell_type": "markdown",
   "metadata": {},
   "source": [
    "# Content-Based Recommender System model considering multiple features together such as type of location, provience, best season, cost, ratings."
   ]
  },
  {
   "cell_type": "code",
   "execution_count": 13,
   "metadata": {},
   "outputs": [],
   "source": [
    "features = ['location_type', 'provience', 'cost','best_time_to_visit','ratings']\n",
    "def combine_features(row):\n",
    "    return row['location_type']+' '+row['provience']+' '+row['cost']+' '+row['best_time_to_visit']+' '+str(row['ratings'])"
   ]
  },
  {
   "cell_type": "code",
   "execution_count": 14,
   "metadata": {},
   "outputs": [],
   "source": [
    "for feature in features:\n",
    "    df_attractions[feature] = df_attractions[feature].fillna('')\n",
    "    df_attractions['combined_features'] = df_attractions.apply(combine_features, axis = 1)"
   ]
  },
  {
   "cell_type": "code",
   "execution_count": 15,
   "metadata": {},
   "outputs": [],
   "source": [
    "from sklearn.feature_extraction.text import CountVectorizer\n",
    "cv = CountVectorizer()\n",
    "count_matrix = cv.fit_transform(df_attractions['combined_features'])"
   ]
  },
  {
   "cell_type": "code",
   "execution_count": 16,
   "metadata": {},
   "outputs": [],
   "source": [
    "from sklearn.metrics.pairwise import cosine_similarity\n",
    "\n",
    "cosine_sim = cosine_similarity(count_matrix)\n",
    "def get_location_from_locationId(location_id):\n",
    "    return df_attractions[df_attractions.location_id == location_id][\"location_name\"].values[0]\n",
    "def get_locationId_from_location(location_name):\n",
    "    return df_attractions[df_attractions.location_name == location_name][\"location_id\"].values[0]\n",
    "def get_ratings_from_locationId(location_id):\n",
    "  return df_attractions[df_attractions.location_id == location_id][\"ratings\"].values[0]\n",
    "def get_provience_from_locationId(location_id):\n",
    "    return df_attractions[df_attractions.location_id == location_id][\"provience\"].values[0]\n",
    "def get_best_time_from_locationId(location_id):\n",
    "    return df_attractions[df_attractions.location_id == location_id][\"best_time_to_visit\"].values[0]\n",
    "def get_visiting_hours_from_locationId(location_id):\n",
    "    return df_attractions[df_attractions.location_id == location_id][\"visiting_hours\"].values[0]\n",
    "def get_address_from_locationId(location_id):\n",
    "    return df_attractions[df_attractions.location_id == location_id][\"Address\"].values[0]\n",
    "def get_website_from_locationId(location_id):\n",
    "    return df_attractions[df_attractions.location_id == location_id][\"Website_link\"].values[0]\n",
    "def get_image_from_locationId(location_id):\n",
    "    return df_attractions[df_attractions.location_id == location_id][\"image_link\"].values[0]"
   ]
  },
  {
   "cell_type": "code",
   "execution_count": 17,
   "metadata": {},
   "outputs": [],
   "source": [
    "import numpy as np"
   ]
  },
  {
   "cell_type": "code",
   "execution_count": 18,
   "metadata": {},
   "outputs": [],
   "source": [
    "from itertools import islice\n",
    "\n",
    "list1=[]\n",
    "\n",
    "def contect_based_combined_list(location_user_likes):\n",
    "  location_locationId= get_locationId_from_location(location_user_likes)\n",
    "  similar_locations = list(enumerate(cosine_sim[location_locationId])) #accessing the row corresponding to given location to find all the similarity scores for that location and then enumerating over it\n",
    "  sorted_similar_locations = sorted(similar_locations,key=lambda x:x[1],reverse=True)[1:]\n",
    "  \n",
    "  i=0\n",
    "  for element in sorted_similar_locations:\n",
    "      list1.append((get_location_from_locationId(element[0])))\n",
    "      list1.append((get_provience_from_locationId(element[0])))\n",
    "      list1.append((get_ratings_from_locationId(element[0])))\n",
    "      list1.append((get_address_from_locationId(element[0])))\n",
    "      list1.append((get_best_time_from_locationId(element[0])))\n",
    "      list1.append((get_visiting_hours_from_locationId(element[0])))\n",
    "\n",
    "      i=i+1\n",
    "      if i>2:\n",
    "          break\n",
    "  \n",
    "  list_final = [list1[i:i + 6] for i in range(0, len(list1), 6)]\n",
    "  return list_final\n"
   ]
  },
  {
   "cell_type": "code",
   "execution_count": null,
   "metadata": {},
   "outputs": [],
   "source": []
  },
  {
   "cell_type": "code",
   "execution_count": 25,
   "metadata": {},
   "outputs": [
    {
     "name": "stdout",
     "output_type": "stream",
     "text": [
      "Starting app on port 5000\n",
      " * Serving Flask app \"__main__\" (lazy loading)\n",
      " * Environment: production\n",
      "   WARNING: This is a development server. Do not use it in a production deployment.\n",
      "   Use a production WSGI server instead.\n",
      " * Debug mode: on\n"
     ]
    },
    {
     "name": "stderr",
     "output_type": "stream",
     "text": [
      " * Running on http://127.0.0.1:5000/ (Press CTRL+C to quit)\n",
      "127.0.0.1 - - [12/Apr/2021 09:34:53] \"\u001b[37mPOST /webhook HTTP/1.1\u001b[0m\" 200 -\n"
     ]
    },
    {
     "name": "stdout",
     "output_type": "stream",
     "text": [
      "{'queryText': 'on', 'parameters': {'geo-state': 'Ontario'}, 'allRequiredParamsPresent': True, 'outputContexts': [{'name': 'projects/recommenderbot-ybiv/agent/sessions/60545ab0-0ed5-03bc-743a-06d99ed29518/contexts/__system_counters__', 'parameters': {'no-input': 0.0, 'no-match': 0.0, 'geo-state': 'Ontario', 'geo-state.original': 'on'}}], 'intent': {'name': 'projects/recommenderbot-ybiv/agent/intents/830a84cb-8d4d-471e-b139-0b184a5313f3', 'displayName': 'Province'}, 'intentDetectionConfidence': 1.0, 'languageCode': 'en'}\n",
      "Ontario\n"
     ]
    },
    {
     "name": "stderr",
     "output_type": "stream",
     "text": [
      "127.0.0.1 - - [12/Apr/2021 09:36:58] \"\u001b[37mPOST /webhook HTTP/1.1\u001b[0m\" 200 -\n"
     ]
    },
    {
     "name": "stdout",
     "output_type": "stream",
     "text": [
      "{'queryText': 'alberta', 'parameters': {'geo-state': 'Alberta'}, 'allRequiredParamsPresent': True, 'outputContexts': [{'name': 'projects/recommenderbot-ybiv/agent/sessions/webdemo-0dbbc350-b3fd-97b9-b89e-33423fde882c/contexts/__system_counters__', 'parameters': {'no-input': 0.0, 'no-match': 0.0, 'geo-state': 'Alberta', 'geo-state.original': 'alberta'}}], 'intent': {'name': 'projects/recommenderbot-ybiv/agent/intents/830a84cb-8d4d-471e-b139-0b184a5313f3', 'displayName': 'Province'}, 'intentDetectionConfidence': 1.0, 'languageCode': 'en'}\n",
      "Alberta\n"
     ]
    },
    {
     "name": "stderr",
     "output_type": "stream",
     "text": [
      "127.0.0.1 - - [12/Apr/2021 09:37:50] \"\u001b[37mPOST /webhook HTTP/1.1\u001b[0m\" 200 -\n"
     ]
    },
    {
     "name": "stdout",
     "output_type": "stream",
     "text": [
      "{'queryText': 'qc', 'parameters': {'geo-state': 'Quebec'}, 'allRequiredParamsPresent': True, 'outputContexts': [{'name': 'projects/recommenderbot-ybiv/agent/sessions/webdemo-0dbbc350-b3fd-97b9-b89e-33423fde882c/contexts/__system_counters__', 'lifespanCount': 1, 'parameters': {'no-input': 0.0, 'no-match': 0.0, 'geo-state': 'Quebec', 'geo-state.original': 'qc'}}], 'intent': {'name': 'projects/recommenderbot-ybiv/agent/intents/830a84cb-8d4d-471e-b139-0b184a5313f3', 'displayName': 'Province'}, 'intentDetectionConfidence': 1.0, 'languageCode': 'en'}\n",
      "Quebec\n"
     ]
    },
    {
     "name": "stderr",
     "output_type": "stream",
     "text": [
      "127.0.0.1 - - [12/Apr/2021 09:38:00] \"\u001b[37mPOST /webhook HTTP/1.1\u001b[0m\" 200 -\n"
     ]
    },
    {
     "name": "stdout",
     "output_type": "stream",
     "text": [
      "{'queryText': 'on', 'parameters': {'geo-state': 'Ontario'}, 'allRequiredParamsPresent': True, 'outputContexts': [{'name': 'projects/recommenderbot-ybiv/agent/sessions/webdemo-0dbbc350-b3fd-97b9-b89e-33423fde882c/contexts/__system_counters__', 'parameters': {'no-input': 0.0, 'no-match': 0.0, 'geo-state': 'Ontario', 'geo-state.original': 'on'}}], 'intent': {'name': 'projects/recommenderbot-ybiv/agent/intents/830a84cb-8d4d-471e-b139-0b184a5313f3', 'displayName': 'Province'}, 'intentDetectionConfidence': 1.0, 'languageCode': 'en'}\n",
      "Ontario\n"
     ]
    },
    {
     "name": "stderr",
     "output_type": "stream",
     "text": [
      "127.0.0.1 - - [12/Apr/2021 09:38:09] \"\u001b[37mPOST /webhook HTTP/1.1\u001b[0m\" 200 -\n"
     ]
    },
    {
     "name": "stdout",
     "output_type": "stream",
     "text": [
      "{'queryText': 'manitoba', 'parameters': {'geo-state': 'Manitoba'}, 'allRequiredParamsPresent': True, 'outputContexts': [{'name': 'projects/recommenderbot-ybiv/agent/sessions/webdemo-0dbbc350-b3fd-97b9-b89e-33423fde882c/contexts/__system_counters__', 'parameters': {'no-input': 0.0, 'no-match': 0.0, 'geo-state': 'Manitoba', 'geo-state.original': 'manitoba'}}], 'intent': {'name': 'projects/recommenderbot-ybiv/agent/intents/830a84cb-8d4d-471e-b139-0b184a5313f3', 'displayName': 'Province'}, 'intentDetectionConfidence': 1.0, 'languageCode': 'en'}\n",
      "Manitoba\n",
      "{'queryText': 'fall', 'parameters': {'best_time': 'fall'}, 'allRequiredParamsPresent': True, 'outputContexts': [{'name': 'projects/recommenderbot-ybiv/agent/sessions/webdemo-0dbbc350-b3fd-97b9-b89e-33423fde882c/contexts/__system_counters__', 'parameters': {'no-input': 0.0, 'no-match': 0.0, 'best_time': 'fall', 'best_time.original': 'fall'}}], 'intent': {'name': 'projects/recommenderbot-ybiv/agent/intents/5fa66014-250e-4459-97ee-5862e8134846', 'displayName': 'BestTime'}, 'intentDetectionConfidence': 1.0, 'languageCode': 'en'}\n",
      "None\n"
     ]
    },
    {
     "name": "stderr",
     "output_type": "stream",
     "text": [
      "127.0.0.1 - - [12/Apr/2021 09:38:46] \"\u001b[35m\u001b[1mPOST /webhook HTTP/1.1\u001b[0m\" 500 -\n",
      "Traceback (most recent call last):\n",
      "  File \"F:\\ANACONDA\\Lib\\site-packages\\flask\\app.py\", line 2464, in __call__\n",
      "    return self.wsgi_app(environ, start_response)\n",
      "  File \"F:\\ANACONDA\\Lib\\site-packages\\flask\\app.py\", line 2450, in wsgi_app\n",
      "    response = self.handle_exception(e)\n",
      "  File \"F:\\ANACONDA\\Lib\\site-packages\\flask\\app.py\", line 1867, in handle_exception\n",
      "    reraise(exc_type, exc_value, tb)\n",
      "  File \"F:\\ANACONDA\\Lib\\site-packages\\flask\\_compat.py\", line 39, in reraise\n",
      "    raise value\n",
      "  File \"F:\\ANACONDA\\Lib\\site-packages\\flask\\app.py\", line 2447, in wsgi_app\n",
      "    response = self.full_dispatch_request()\n",
      "  File \"F:\\ANACONDA\\Lib\\site-packages\\flask\\app.py\", line 1952, in full_dispatch_request\n",
      "    rv = self.handle_user_exception(e)\n",
      "  File \"F:\\ANACONDA\\Lib\\site-packages\\flask\\app.py\", line 1821, in handle_user_exception\n",
      "    reraise(exc_type, exc_value, tb)\n",
      "  File \"F:\\ANACONDA\\Lib\\site-packages\\flask\\_compat.py\", line 39, in reraise\n",
      "    raise value\n",
      "  File \"F:\\ANACONDA\\Lib\\site-packages\\flask\\app.py\", line 1950, in full_dispatch_request\n",
      "    rv = self.dispatch_request()\n",
      "  File \"F:\\ANACONDA\\Lib\\site-packages\\flask\\app.py\", line 1936, in dispatch_request\n",
      "    return self.view_functions[rule.endpoint](**req.view_args)\n",
      "  File \"<ipython-input-25-741e0935a795>\", line 26, in webhook\n",
      "    \n",
      "  File \"<ipython-input-25-741e0935a795>\", line 63, in processRequest\n",
      "    \n",
      "  File \"<ipython-input-25-741e0935a795>\", line 109, in loc_type\n",
      "    \n",
      "  File \"F:\\ANACONDA\\Lib\\site-packages\\pandas\\core\\indexing.py\", line 879, in __getitem__\n",
      "    return self._getitem_axis(maybe_callable, axis=axis)\n",
      "  File \"F:\\ANACONDA\\Lib\\site-packages\\pandas\\core\\indexing.py\", line 1496, in _getitem_axis\n",
      "    self._validate_integer(key, axis)\n",
      "  File \"F:\\ANACONDA\\Lib\\site-packages\\pandas\\core\\indexing.py\", line 1437, in _validate_integer\n",
      "    raise IndexError(\"single positional indexer is out-of-bounds\")\n",
      "IndexError: single positional indexer is out-of-bounds\n",
      "127.0.0.1 - - [12/Apr/2021 09:44:21] \"\u001b[37mPOST /webhook HTTP/1.1\u001b[0m\" 200 -\n"
     ]
    },
    {
     "name": "stdout",
     "output_type": "stream",
     "text": [
      "{'queryText': 'Parks', 'parameters': {'attraction_type': 'Parks'}, 'allRequiredParamsPresent': True, 'fulfillmentMessages': [{'text': {'text': ['']}}], 'outputContexts': [{'name': 'projects/recommenderbot-ybiv/agent/sessions/webdemo-0dbbc350-b3fd-97b9-b89e-33423fde882c/contexts/__system_counters__', 'parameters': {'no-input': 0.0, 'no-match': 0.0, 'attraction_type': 'Parks', 'attraction_type.original': 'Parks'}}], 'intent': {'name': 'projects/recommenderbot-ybiv/agent/intents/9fea50c7-5779-4681-acf7-d5b5e5aecab3', 'displayName': 'Attraction'}, 'intentDetectionConfidence': 1.0, 'languageCode': 'en'}\n",
      "None\n"
     ]
    },
    {
     "name": "stderr",
     "output_type": "stream",
     "text": [
      "127.0.0.1 - - [12/Apr/2021 09:45:46] \"\u001b[37mPOST /webhook HTTP/1.1\u001b[0m\" 200 -\n"
     ]
    },
    {
     "name": "stdout",
     "output_type": "stream",
     "text": [
      "{'queryText': 'Trams', 'parameters': {'attraction_type': 'Trams'}, 'allRequiredParamsPresent': True, 'fulfillmentMessages': [{'text': {'text': ['']}}], 'outputContexts': [{'name': 'projects/recommenderbot-ybiv/agent/sessions/webdemo-0dbbc350-b3fd-97b9-b89e-33423fde882c/contexts/__system_counters__', 'parameters': {'no-input': 0.0, 'no-match': 0.0, 'attraction_type': 'Trams', 'attraction_type.original': 'Trams'}}], 'intent': {'name': 'projects/recommenderbot-ybiv/agent/intents/9fea50c7-5779-4681-acf7-d5b5e5aecab3', 'displayName': 'Attraction'}, 'intentDetectionConfidence': 1.0, 'languageCode': 'en'}\n",
      "None\n"
     ]
    },
    {
     "name": "stderr",
     "output_type": "stream",
     "text": [
      "127.0.0.1 - - [12/Apr/2021 09:47:18] \"\u001b[37mPOST /webhook HTTP/1.1\u001b[0m\" 200 -\n"
     ]
    },
    {
     "name": "stdout",
     "output_type": "stream",
     "text": [
      "{'queryText': 'Gardens', 'parameters': {'attraction_type': 'Gardens'}, 'allRequiredParamsPresent': True, 'fulfillmentMessages': [{'text': {'text': ['']}}], 'outputContexts': [{'name': 'projects/recommenderbot-ybiv/agent/sessions/webdemo-0dbbc350-b3fd-97b9-b89e-33423fde882c/contexts/__system_counters__', 'lifespanCount': 1, 'parameters': {'no-input': 0.0, 'no-match': 0.0, 'attraction_type': 'Gardens', 'attraction_type.original': 'Gardens'}}], 'intent': {'name': 'projects/recommenderbot-ybiv/agent/intents/9fea50c7-5779-4681-acf7-d5b5e5aecab3', 'displayName': 'Attraction'}, 'intentDetectionConfidence': 1.0, 'languageCode': 'en'}\n",
      "None\n"
     ]
    },
    {
     "data": {
      "text/plain": [
       "'if __name__ == \"__main__\":\\n    app.run(port=5000, debug=True)'"
      ]
     },
     "execution_count": 25,
     "metadata": {},
     "output_type": "execute_result"
    }
   ],
   "source": [
    "try:\n",
    "    import urllib\n",
    "    import json\n",
    "    import os\n",
    "    from flask import (Flask,request, make_response)\n",
    "\n",
    "except Exception as e:\n",
    "\n",
    "    print(\"Some modules are missing {}\".format(e))\n",
    "# Flask app should start in global layout\n",
    "app = Flask(__name__)\n",
    "\n",
    "\n",
    "# whenever you make request /webhook\n",
    "# Following calls are made\n",
    "# webhook ->\n",
    "# -----------> Process requests\n",
    "# ---------------------------->get_data()\n",
    "\n",
    "\n",
    "@app.route('/webhook', methods=['POST'])\n",
    "def webhook():\n",
    "\n",
    "    if request.method == \"POST\":\n",
    "        req = request.get_json(silent=True, force=True)\n",
    "        res = processRequest(req)\n",
    "\n",
    "        res = json.dumps(res, indent=4)\n",
    "        r = make_response(res)\n",
    "        r.headers['Content-Type'] = 'application/json'\n",
    "        return r\n",
    "\n",
    "\n",
    "def processRequest(req):\n",
    "\n",
    "    # Get all the Query Parameter\n",
    "    query_response = req[\"queryResult\"]\n",
    "    print(query_response)\n",
    "    #text = query_response.get('queryText', None)\n",
    "    #parameters = query_response.get('parameters', None)\n",
    "    sessionID = req.get('responseId')\n",
    "    query_response = req.get(\"queryResult\")\n",
    "    intent = query_response.get(\"intent\").get('displayName')\n",
    "    query_text = query_response.get(\"queryText\")\n",
    "    parameters = query_response.get(\"parameters\")\n",
    "    province_name = parameters.get(\"geo-state\")\n",
    "    print(province_name)\n",
    "    attraction = parameters.get(\"attraction_type\")\n",
    "    besttime = parameters.get(\"best_time\")\n",
    "    previous_attarction = parameters.get(\"attraction_typee\")\n",
    "    #db = configureDataBase()\n",
    "    #res = get_data()\n",
    "    #res= get_province_rec(province_name)\n",
    "    if intent == 'Province':\n",
    "        res= get_province(province_name)\n",
    "        #fulfillmentText = get_province_rec(province_name)\n",
    "        return res\n",
    "    elif intent =='Attraction':\n",
    "        res= loc_type(attraction)\n",
    "        #fulfillmentText = get_province_rec(province_name)\n",
    "        return res\n",
    "    elif intent =='BestTime':\n",
    "        res= loc_type(attraction)\n",
    "        return res\n",
    "        \n",
    "    elif intent =='Previous_Visit':\n",
    "        res= get_from_u(previous_attarction)\n",
    "        return res\n",
    "    else:\n",
    "        return {\n",
    "            \"fulfillmentText\": \"Something went wrong,Lets start from the begning, Say Hi\",\n",
    "        }\n",
    "\n",
    "\n",
    "\n",
    "def get_from_u(previous_attarction):\n",
    "    model=contect_based_combined_list(previous_attarction)\n",
    "    return {\n",
    "        \"fulfillmentText\":'Here are three similar recommendations to '+ str(location_user_likes)+': \\n'+ '\\n'+ str(model)\n",
    "        #\"fulfillmentText\":'Here are the top two recommendations for'\n",
    "\n",
    "    }\n",
    "\n",
    "\n",
    "\n",
    "def get_best_time(besttime):\n",
    "    loc = df_attractions.loc[df_attractions['best_time_to_visit'].isin([besttime])]\n",
    "    time_fetch = loc.iloc[0]['location_name']\n",
    "    re=list(get_recommendations_based_on_best_time(time_fetch).values)\n",
    "    return {\n",
    "        \"fulfillmentText\":'Here are the top two recommendations for '+ str(besttime)+': \\n'+ '\\n'+ str(re)\n",
    "        #\"fulfillmentText\":'Here are the top two recommendations for'\n",
    "    }\n",
    "\n",
    "\n",
    "\n",
    "\n",
    "def get_province(province_name):\n",
    "    loc = df_attractions.loc[df_attractions['provience'].isin([province_name.lower()])]\n",
    "    provience_fetch = loc.iloc[0]['location_name']\n",
    "    re=list(get_recommendations_based_on_provience(provience_fetch).values)\n",
    "    return {\n",
    "        \"fulfillmentText\":'Here are the top two recommendations for '+ str(province_name)+': \\n'+ '\\n'+ str(re)\n",
    "    }\n",
    "\n",
    "\n",
    "def loc_type(attraction):\n",
    "    loc = df_attractions.loc[df_attractions['location_type'].isin([attraction])]\n",
    "    location_fetch = loc.iloc[0]['location_name']\n",
    "    re=list(get_recommendations_based_on_type(location_fetch).values)\n",
    "    return {\n",
    "        \"fulfillmentText\":'Here are the top two recommendations for '+ str(attraction)+': \\n'+ '\\n'+ str(re)\n",
    "        #\"fulfillmentText\":'Here are the top two recommendations for'\n",
    "    }\n",
    "\n",
    "\n",
    "\n",
    "\n",
    "\n",
    "if __name__ == '__main__':\n",
    "    port = int(os.getenv('PORT', 5000))\n",
    "    print (\"Starting app on port %d\" %(port))\n",
    "\n",
    "    #app.run(debug=True, port=port, host='0.0.0.0')\n",
    "    app.run(debug=True, use_reloader=False)\n",
    "    #export FLASK_APP=my_app.py\n",
    "    #export FLASK_DEBUG=1\n",
    "    #flask run\n",
    "\n",
    "\n",
    "'''if __name__ == '__main__':\n",
    "    port = int(os.getenv('PORT',5000))\n",
    "    print(\"Starting app on port %d\" % port)\n",
    "    #app.run(debug=True, port=port, host='0.0.0.0')'''\n",
    "'''if __name__ == \"__main__\":\n",
    "    app.run(port=5000, debug=True)''' # running the app on the local machine on port 8000"
   ]
  },
  {
   "cell_type": "code",
   "execution_count": null,
   "metadata": {},
   "outputs": [],
   "source": []
  },
  {
   "cell_type": "code",
   "execution_count": 21,
   "metadata": {},
   "outputs": [
    {
     "ename": "NameError",
     "evalue": "name 'location_user_likes' is not defined",
     "output_type": "error",
     "traceback": [
      "\u001b[1;31m---------------------------------------------------------------------------\u001b[0m",
      "\u001b[1;31mNameError\u001b[0m                                 Traceback (most recent call last)",
      "\u001b[1;32m<ipython-input-21-ebfc1e79ee68>\u001b[0m in \u001b[0;36m<module>\u001b[1;34m\u001b[0m\n\u001b[1;32m----> 1\u001b[1;33m \u001b[0mget_from_u\u001b[0m\u001b[1;33m(\u001b[0m\u001b[1;34m'Stanley Park'\u001b[0m\u001b[1;33m)\u001b[0m\u001b[1;33m\u001b[0m\u001b[1;33m\u001b[0m\u001b[0m\n\u001b[0m",
      "\u001b[1;32m<ipython-input-20-5a5df4bdbee9>\u001b[0m in \u001b[0;36mget_from_u\u001b[1;34m(previous_attarction)\u001b[0m\n\u001b[0;32m     77\u001b[0m     \u001b[0mmodel\u001b[0m\u001b[1;33m=\u001b[0m\u001b[0mcontect_based_combined_list\u001b[0m\u001b[1;33m(\u001b[0m\u001b[0mprevious_attarction\u001b[0m\u001b[1;33m)\u001b[0m\u001b[1;33m\u001b[0m\u001b[1;33m\u001b[0m\u001b[0m\n\u001b[0;32m     78\u001b[0m     return {\n\u001b[1;32m---> 79\u001b[1;33m         \u001b[1;34m\"fulfillmentText\"\u001b[0m\u001b[1;33m:\u001b[0m\u001b[1;34m'Here are three similar recommendations to '\u001b[0m\u001b[1;33m+\u001b[0m \u001b[0mstr\u001b[0m\u001b[1;33m(\u001b[0m\u001b[0mlocation_user_likes\u001b[0m\u001b[1;33m)\u001b[0m\u001b[1;33m+\u001b[0m\u001b[1;34m': \\n'\u001b[0m\u001b[1;33m+\u001b[0m \u001b[1;34m'\\n'\u001b[0m\u001b[1;33m+\u001b[0m \u001b[0mstr\u001b[0m\u001b[1;33m(\u001b[0m\u001b[0mmodel\u001b[0m\u001b[1;33m)\u001b[0m\u001b[1;33m\u001b[0m\u001b[1;33m\u001b[0m\u001b[0m\n\u001b[0m\u001b[0;32m     80\u001b[0m         \u001b[1;31m#\"fulfillmentText\":'Here are the top two recommendations for'\u001b[0m\u001b[1;33m\u001b[0m\u001b[1;33m\u001b[0m\u001b[1;33m\u001b[0m\u001b[0m\n\u001b[0;32m     81\u001b[0m \u001b[1;33m\u001b[0m\u001b[0m\n",
      "\u001b[1;31mNameError\u001b[0m: name 'location_user_likes' is not defined"
     ]
    }
   ],
   "source": [
    "get_from_u('Stanley Park')"
   ]
  },
  {
   "cell_type": "code",
   "execution_count": 131,
   "metadata": {},
   "outputs": [
    {
     "data": {
      "text/plain": [
       "{'fulfillmentText': \"Here are the top two recommendations for Parks: \\n\\n['Stanley Park', 'Kingston Waterfront']\"}"
      ]
     },
     "execution_count": 131,
     "metadata": {},
     "output_type": "execute_result"
    }
   ],
   "source": [
    "loc_type('Parks')"
   ]
  },
  {
   "cell_type": "code",
   "execution_count": 132,
   "metadata": {},
   "outputs": [
    {
     "data": {
      "text/plain": [
       "{'fulfillmentText': \"Here are the top two recommendations for fall: \\n\\n['Heritage Park Historical Village', 'Toronto Island Park']\"}"
      ]
     },
     "execution_count": 132,
     "metadata": {},
     "output_type": "execute_result"
    }
   ],
   "source": [
    "get_best_time('fall')"
   ]
  },
  {
   "cell_type": "code",
   "execution_count": 141,
   "metadata": {},
   "outputs": [
    {
     "data": {
      "text/plain": [
       "{'fulfillmentText': 'Here are the top two recommendations for'}"
      ]
     },
     "execution_count": 141,
     "metadata": {},
     "output_type": "execute_result"
    }
   ],
   "source": []
  },
  {
   "cell_type": "code",
   "execution_count": null,
   "metadata": {},
   "outputs": [],
   "source": []
  },
  {
   "cell_type": "code",
   "execution_count": null,
   "metadata": {},
   "outputs": [],
   "source": []
  }
 ],
 "metadata": {
  "kernelspec": {
   "display_name": "Python 3",
   "language": "python",
   "name": "python3"
  },
  "language_info": {
   "codemirror_mode": {
    "name": "ipython",
    "version": 3
   },
   "file_extension": ".py",
   "mimetype": "text/x-python",
   "name": "python",
   "nbconvert_exporter": "python",
   "pygments_lexer": "ipython3",
   "version": "3.8.5"
  }
 },
 "nbformat": 4,
 "nbformat_minor": 4
}
